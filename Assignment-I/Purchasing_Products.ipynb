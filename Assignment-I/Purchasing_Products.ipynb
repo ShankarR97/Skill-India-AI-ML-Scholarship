{
  "nbformat": 4,
  "nbformat_minor": 0,
  "metadata": {
    "colab": {
      "name": "Purchasing Products.ipynb",
      "provenance": []
    },
    "kernelspec": {
      "name": "python3",
      "display_name": "Python 3"
    },
    "language_info": {
      "name": "python"
    }
  },
  "cells": [
    {
      "cell_type": "markdown",
      "metadata": {
        "id": "zFsQNHk35uXk"
      },
      "source": [
        "**RACHABATTUNI SAI SHANKAR**"
      ]
    },
    {
      "cell_type": "markdown",
      "metadata": {
        "id": "ynifRXpb5xkC"
      },
      "source": [
        "**Purchasing Products**"
      ]
    },
    {
      "cell_type": "markdown",
      "metadata": {
        "id": "3meLDyQuxxJs"
      },
      "source": [
        "**Read Inventory**"
      ]
    },
    {
      "cell_type": "code",
      "metadata": {
        "id": "vtShjeZUx0u_"
      },
      "source": [
        "import json\n",
        "\n",
        "fd = open(\"record.json\",'r')\n",
        "r = fd.read()\n",
        "fd.close()\n",
        "\n",
        "records = json.loads(r)"
      ],
      "execution_count": 58,
      "outputs": []
    },
    {
      "cell_type": "code",
      "metadata": {
        "colab": {
          "base_uri": "https://localhost:8080/"
        },
        "id": "CDqh92mEx2iS",
        "outputId": "7512d681-acdc-44c8-a876-9bc88c82d02a"
      },
      "source": [
        "records"
      ],
      "execution_count": 59,
      "outputs": [
        {
          "output_type": "execute_result",
          "data": {
            "text/plain": [
              "{'1001': {'name': 'Choco Cake', 'pr': 100, 'qn': 34},\n",
              " '1002': {'name': 'Milk Cake', 'pr': 800, 'qn': 100},\n",
              " '1003': {'name': 'Drink', 'pr': 85, 'qn': 100},\n",
              " '1004': {'name': 'Candy', 'pr': 5, 'qn': 1000},\n",
              " '1005': {'name': 'Pen', 'pr': 20, 'qn': 100},\n",
              " '1006': {'name': 'Phone', 'pr': 50000, 'qn': 10},\n",
              " '1007': {'name': 'Mic', 'pr': 1500, 'qn': 0},\n",
              " '1008': {'name': 'Case', 'pr': 599, 'qn': 5},\n",
              " '1009': {'name': 'Keyboard', 'pr': 1999, 'qn': 10},\n",
              " '1010': {'name': 'Ice Cream', 'pr': 300, 'qn': 5},\n",
              " '1011': {'name': 'Biscuits', 'pr': 500, 'qn': 4},\n",
              " '1012': {'name': 'Charger', 'pr': 250, 'qn': 1}}"
            ]
          },
          "metadata": {},
          "execution_count": 59
        }
      ]
    },
    {
      "cell_type": "markdown",
      "metadata": {
        "id": "FEAzMewQx7MP"
      },
      "source": [
        "**Purchase Items**"
      ]
    },
    {
      "cell_type": "code",
      "metadata": {
        "colab": {
          "base_uri": "https://localhost:8080/"
        },
        "id": "ZfUQ5HVXx-3E",
        "outputId": "815ea22d-fcdc-44fa-8e4f-f445deb92033"
      },
      "source": [
        "ui_prod  = str(input(\"Enter the product_Id: \"))\n",
        "ui_quant = int(input(\"Enter the quantity: \"))\n",
        "\n",
        "\n",
        "print(\"Product: \", records[ui_prod]['name'])\n",
        "print(\"Price: \", records[ui_prod]['pr'])\n",
        "print(\"Billing Amount: \", records[ui_prod]['pr'] * ui_quant)\n",
        "\n",
        "records[ui_prod]['qn'] = records[ui_prod]['qn'] - ui_quant"
      ],
      "execution_count": 60,
      "outputs": [
        {
          "output_type": "stream",
          "name": "stdout",
          "text": [
            "Enter the product_Id: 1011\n",
            "Enter the quantity: 4\n",
            "Product:  Biscuits\n",
            "Price:  500\n",
            "Billing Amount:  2000\n"
          ]
        }
      ]
    },
    {
      "cell_type": "markdown",
      "metadata": {
        "id": "8bA2zneqyBs9"
      },
      "source": [
        "**Update Inventory after purchasing Items**"
      ]
    },
    {
      "cell_type": "code",
      "metadata": {
        "id": "UsnIsw7AyH8v"
      },
      "source": [
        "js = json.dumps(records)\n",
        "\n",
        "fd = open(\"record.json\",'w')\n",
        "fd.write(js)\n",
        "fd.close()"
      ],
      "execution_count": 61,
      "outputs": []
    },
    {
      "cell_type": "markdown",
      "metadata": {
        "id": "5vDgWP_uyKey"
      },
      "source": [
        "**Sales JSON**"
      ]
    },
    {
      "cell_type": "code",
      "metadata": {
        "colab": {
          "base_uri": "https://localhost:8080/"
        },
        "id": "YrFo8X5ByNqs",
        "outputId": "42f55ff3-0cc0-45bb-e289-17b3b99b14d8"
      },
      "source": [
        "{'prod' : ui_prod, 'qn' : ui_quant, 'amount': records[ui_prod]['pr'] * ui_quant}"
      ],
      "execution_count": 62,
      "outputs": [
        {
          "output_type": "execute_result",
          "data": {
            "text/plain": [
              "{'amount': 2000, 'prod': '1011', 'qn': 4}"
            ]
          },
          "metadata": {},
          "execution_count": 62
        }
      ]
    },
    {
      "cell_type": "code",
      "metadata": {
        "id": "jx4pdmehyP-X"
      },
      "source": [
        "sales = {1 : {'prod' : ui_prod, 'qn' : ui_quant, 'amount': records[ui_prod]['pr'] * ui_quant},\n",
        "         2 : {'prod' : ui_prod, 'qn' : ui_quant, 'amount': records[ui_prod]['pr'] * ui_quant},\n",
        "         3 : {'prod' : ui_prod, 'qn' : ui_quant, 'amount': records[ui_prod]['pr'] * ui_quant}}"
      ],
      "execution_count": 63,
      "outputs": []
    },
    {
      "cell_type": "code",
      "metadata": {
        "colab": {
          "base_uri": "https://localhost:8080/"
        },
        "id": "mTrCcTqb1CdH",
        "outputId": "5c88f75c-b43e-401b-fa4e-74ec07e04c32"
      },
      "source": [
        "{ (len(sales) + 1) : {'prod' : ui_prod, 'qn' : ui_quant, 'amount': records[ui_prod]['pr'] * ui_quant}}"
      ],
      "execution_count": 64,
      "outputs": [
        {
          "output_type": "execute_result",
          "data": {
            "text/plain": [
              "{4: {'amount': 2000, 'prod': '1011', 'qn': 4}}"
            ]
          },
          "metadata": {},
          "execution_count": 64
        }
      ]
    },
    {
      "cell_type": "code",
      "metadata": {
        "id": "ZLAjtsVj0hdb"
      },
      "source": [
        "sales[(len(sales) + 1)] : {'prod' : ui_prod, 'qn' : ui_quant, 'amount': records[ui_prod]['pr'] * ui_quant}"
      ],
      "execution_count": 65,
      "outputs": []
    },
    {
      "cell_type": "code",
      "metadata": {
        "colab": {
          "base_uri": "https://localhost:8080/"
        },
        "id": "GZSM_2RD2LTX",
        "outputId": "ec8bfff7-550f-421a-88d3-7e86089d65a4"
      },
      "source": [
        "sales"
      ],
      "execution_count": 66,
      "outputs": [
        {
          "output_type": "execute_result",
          "data": {
            "text/plain": [
              "{1: {'amount': 2000, 'prod': '1011', 'qn': 4},\n",
              " 2: {'amount': 2000, 'prod': '1011', 'qn': 4},\n",
              " 3: {'amount': 2000, 'prod': '1011', 'qn': 4}}"
            ]
          },
          "metadata": {},
          "execution_count": 66
        }
      ]
    },
    {
      "cell_type": "code",
      "metadata": {
        "colab": {
          "base_uri": "https://localhost:8080/",
          "height": 35
        },
        "id": "r4eAHry-3be8",
        "outputId": "aa73e8dd-57a0-4510-b31c-af88669dc185"
      },
      "source": [
        "json.dumps(sales)"
      ],
      "execution_count": 67,
      "outputs": [
        {
          "output_type": "execute_result",
          "data": {
            "application/vnd.google.colaboratory.intrinsic+json": {
              "type": "string"
            },
            "text/plain": [
              "'{\"1\": {\"prod\": \"1011\", \"qn\": 4, \"amount\": 2000}, \"2\": {\"prod\": \"1011\", \"qn\": 4, \"amount\": 2000}, \"3\": {\"prod\": \"1011\", \"qn\": 4, \"amount\": 2000}}'"
            ]
          },
          "metadata": {},
          "execution_count": 67
        }
      ]
    },
    {
      "cell_type": "code",
      "metadata": {
        "id": "rOQUZPQm3e1A"
      },
      "source": [
        "fd = open(\"record.json\", \"r\")\n",
        "r = fd.read()\n",
        "fd.close()"
      ],
      "execution_count": 68,
      "outputs": []
    },
    {
      "cell_type": "code",
      "metadata": {
        "id": "2N6O11PY5P6t"
      },
      "source": [
        ""
      ],
      "execution_count": null,
      "outputs": []
    }
  ]
}